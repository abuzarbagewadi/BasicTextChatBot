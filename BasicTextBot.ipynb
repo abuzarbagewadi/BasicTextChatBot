{
  "nbformat": 4,
  "nbformat_minor": 0,
  "metadata": {
    "colab": {
      "name": "BasicTextBot.ipynb",
      "provenance": [],
      "collapsed_sections": [],
      "authorship_tag": "ABX9TyO11HARUu3vv0vyFb7sEmf3",
      "include_colab_link": true
    },
    "kernelspec": {
      "name": "python3",
      "display_name": "Python 3"
    },
    "language_info": {
      "name": "python"
    }
  },
  "cells": [
    {
      "cell_type": "markdown",
      "metadata": {
        "id": "view-in-github",
        "colab_type": "text"
      },
      "source": [
        "<a href=\"https://colab.research.google.com/github/abuzarbagewadi/BasicTextChatBot/blob/main/BasicTextBot.ipynb\" target=\"_parent\"><img src=\"https://colab.research.google.com/assets/colab-badge.svg\" alt=\"Open In Colab\"/></a>"
      ]
    },
    {
      "cell_type": "code",
      "metadata": {
        "id": "wA_8gdZQ_zO5"
      },
      "source": [
        "# # pip install chatterbot\n",
        "# # pip install chatterbot-corpus\n",
        "# pip install git+git://github.com/gunthercox/ChatterBot.git@master"
      ],
      "execution_count": null,
      "outputs": []
    },
    {
      "cell_type": "markdown",
      "metadata": {
        "id": "mu4VZgVgCW97"
      },
      "source": [
        "## Installing Libraries needed"
      ]
    },
    {
      "cell_type": "code",
      "metadata": {
        "colab": {
          "base_uri": "https://localhost:8080/"
        },
        "id": "i60k3ByJATcu",
        "outputId": "2d7109bd-ce38-45ac-f913-f702fec519ef"
      },
      "source": [
        "pip install chatterbot"
      ],
      "execution_count": 4,
      "outputs": [
        {
          "output_type": "stream",
          "text": [
            "Collecting chatterbot\n",
            "\u001b[?25l  Downloading https://files.pythonhosted.org/packages/7c/21/85c2b114bd9dfabdd46ba58fc4519acdaed45d8c70898d40079e37a45e67/ChatterBot-1.0.8-py2.py3-none-any.whl (63kB)\n",
            "\r\u001b[K     |█████▏                          | 10kB 14.5MB/s eta 0:00:01\r\u001b[K     |██████████▎                     | 20kB 20.3MB/s eta 0:00:01\r\u001b[K     |███████████████▌                | 30kB 18.2MB/s eta 0:00:01\r\u001b[K     |████████████████████▋           | 40kB 18.0MB/s eta 0:00:01\r\u001b[K     |█████████████████████████▊      | 51kB 19.0MB/s eta 0:00:01\r\u001b[K     |███████████████████████████████ | 61kB 20.3MB/s eta 0:00:01\r\u001b[K     |████████████████████████████████| 71kB 5.0MB/s \n",
            "\u001b[?25hRequirement already satisfied: python-dateutil<2.9,>=2.8 in /usr/local/lib/python3.7/dist-packages (from chatterbot) (2.8.1)\n",
            "Requirement already satisfied: pytz in /usr/local/lib/python3.7/dist-packages (from chatterbot) (2018.9)\n",
            "Collecting sqlalchemy<1.4,>=1.3\n",
            "\u001b[?25l  Downloading https://files.pythonhosted.org/packages/31/44/a86070dda790ce94cd7d9fb9281cd614c7d30850ed774ace9a84d0d5d491/SQLAlchemy-1.3.24-cp37-cp37m-manylinux2010_x86_64.whl (1.3MB)\n",
            "\u001b[K     |████████████████████████████████| 1.3MB 26.5MB/s \n",
            "\u001b[?25hCollecting mathparse<0.2,>=0.1\n",
            "  Downloading https://files.pythonhosted.org/packages/c3/e5/4910fb85950cb960fcf3f5aabe1c8e55f5c9201788a1c1302b570a7e1f84/mathparse-0.1.2-py3-none-any.whl\n",
            "Requirement already satisfied: six>=1.5 in /usr/local/lib/python3.7/dist-packages (from python-dateutil<2.9,>=2.8->chatterbot) (1.15.0)\n",
            "Installing collected packages: sqlalchemy, mathparse, chatterbot\n",
            "  Found existing installation: SQLAlchemy 1.4.3\n",
            "    Uninstalling SQLAlchemy-1.4.3:\n",
            "      Successfully uninstalled SQLAlchemy-1.4.3\n",
            "Successfully installed chatterbot-1.0.8 mathparse-0.1.2 sqlalchemy-1.3.24\n"
          ],
          "name": "stdout"
        }
      ]
    },
    {
      "cell_type": "code",
      "metadata": {
        "colab": {
          "base_uri": "https://localhost:8080/"
        },
        "id": "4_ON3vTEAW93",
        "outputId": "a45a05e1-e649-45ef-af47-0ee81ae4268a"
      },
      "source": [
        "pip install chatterbot-corpus"
      ],
      "execution_count": 5,
      "outputs": [
        {
          "output_type": "stream",
          "text": [
            "Collecting chatterbot-corpus\n",
            "\u001b[?25l  Downloading https://files.pythonhosted.org/packages/ed/19/f8b41daf36fe4b0f43e283a820362ffdb2c1128600ab4ee187e84262fa4d/chatterbot_corpus-1.2.0-py2.py3-none-any.whl (117kB)\n",
            "\r\u001b[K     |██▉                             | 10kB 8.0MB/s eta 0:00:01\r\u001b[K     |█████▋                          | 20kB 12.7MB/s eta 0:00:01\r\u001b[K     |████████▍                       | 30kB 16.3MB/s eta 0:00:01\r\u001b[K     |███████████▏                    | 40kB 18.7MB/s eta 0:00:01\r\u001b[K     |██████████████                  | 51kB 20.7MB/s eta 0:00:01\r\u001b[K     |████████████████▊               | 61kB 22.9MB/s eta 0:00:01\r\u001b[K     |███████████████████▋            | 71kB 23.8MB/s eta 0:00:01\r\u001b[K     |██████████████████████▍         | 81kB 23.7MB/s eta 0:00:01\r\u001b[K     |█████████████████████████▏      | 92kB 24.6MB/s eta 0:00:01\r\u001b[K     |████████████████████████████    | 102kB 25.6MB/s eta 0:00:01\r\u001b[K     |██████████████████████████████▊ | 112kB 25.6MB/s eta 0:00:01\r\u001b[K     |████████████████████████████████| 122kB 25.6MB/s \n",
            "\u001b[?25hRequirement already satisfied: PyYAML<4.0,>=3.12 in /usr/local/lib/python3.7/dist-packages (from chatterbot-corpus) (3.13)\n",
            "Installing collected packages: chatterbot-corpus\n",
            "Successfully installed chatterbot-corpus-1.2.0\n"
          ],
          "name": "stdout"
        }
      ]
    },
    {
      "cell_type": "markdown",
      "metadata": {
        "id": "cR4PsIebCdKw"
      },
      "source": [
        "## Importing Classes -> Giving arguments for training\n",
        "\n",
        "### Some explainations\n",
        "\n",
        "read_only = \"true\" -> for disabling bot's ability to learn after training\n",
        "\n"
      ]
    },
    {
      "cell_type": "code",
      "metadata": {
        "colab": {
          "base_uri": "https://localhost:8080/"
        },
        "id": "7Jq6Sp8b_phZ",
        "outputId": "a9a7e140-c6bb-4985-a653-078d583b1b7b"
      },
      "source": [
        "#importing classes from installed packages\n",
        "from chatterbot import ChatBot \n",
        "from chatterbot.trainers import ListTrainer \n",
        "\n",
        "my_bot = ChatBot(name='PyBot', read_only=True,\n",
        "                 logic_adapters=['chatterbot.logic.MathematicalEvaluation',\n",
        "                                 'chatterbot.logic.BestMatch'])\n",
        "\n",
        "small_talk = ['hi there!',\n",
        "              'hi!',\n",
        "              'how do you do?',\n",
        "              'how are you?',\n",
        "              'i\\'m cool.',\n",
        "              'fine, you?',\n",
        "              'always cool.',\n",
        "              'i\\'m ok',\n",
        "              'glad to hear that.',\n",
        "              'i\\'m fine',\n",
        "              'glad to hear that.',\n",
        "              'i feel awesome',\n",
        "              'excellent, glad to hear that.',\n",
        "              'not so good',\n",
        "              'sorry to hear that.',\n",
        "              'what\\'s your name?',\n",
        "              'i\\'m pybot. ask me a math question, please.']\n",
        "math_talk_1 = ['pythagorean theorem',\n",
        "               'a squared plus b squared equals c squared.']\n",
        "math_talk_2 = ['law of cosines',\n",
        "               'c**2 = a**2 + b**2 - 2 * a * b * cos(gamma)']\n",
        "\n",
        "\n",
        "list_trainer = ListTrainer(my_bot)\n",
        "for item in (small_talk, math_talk_1, math_talk_2):\n",
        "    list_trainer.train(item)"
      ],
      "execution_count": 6,
      "outputs": [
        {
          "output_type": "stream",
          "text": [
            "List Trainer: [####################] 100%\n",
            "List Trainer: [####################] 100%\n",
            "List Trainer: [####################] 100%\n"
          ],
          "name": "stdout"
        }
      ]
    },
    {
      "cell_type": "code",
      "metadata": {
        "colab": {
          "base_uri": "https://localhost:8080/"
        },
        "id": "MrJk9qlaAgvc",
        "outputId": "2f4f8acf-e83c-4e1e-a9ff-6a9a49c0f92c"
      },
      "source": [
        "print(my_bot.get_response(\"hi\"))"
      ],
      "execution_count": 7,
      "outputs": [
        {
          "output_type": "stream",
          "text": [
            "how do you do?\n"
          ],
          "name": "stdout"
        }
      ]
    },
    {
      "cell_type": "code",
      "metadata": {
        "colab": {
          "base_uri": "https://localhost:8080/"
        },
        "id": "rH-CEd-2Arzs",
        "outputId": "8f8c5080-2ca1-4ac6-dd5f-6140ab90c5d9"
      },
      "source": [
        "print(my_bot.get_response(\"how do you do?\"))"
      ],
      "execution_count": 8,
      "outputs": [
        {
          "output_type": "stream",
          "text": [
            "how are you?\n"
          ],
          "name": "stdout"
        }
      ]
    },
    {
      "cell_type": "code",
      "metadata": {
        "colab": {
          "base_uri": "https://localhost:8080/"
        },
        "id": "I81pe3oUAzl7",
        "outputId": "7ce765b6-c028-4ff4-8f18-d60f207d9c75"
      },
      "source": [
        "print(my_bot.get_response('sorry to hear that.'))"
      ],
      "execution_count": 9,
      "outputs": [
        {
          "output_type": "stream",
          "text": [
            "i'm fine\n"
          ],
          "name": "stdout"
        }
      ]
    },
    {
      "cell_type": "markdown",
      "metadata": {
        "id": "VVHwUUHtDSxn"
      },
      "source": [
        "## Training the bot on more data"
      ]
    },
    {
      "cell_type": "code",
      "metadata": {
        "colab": {
          "base_uri": "https://localhost:8080/"
        },
        "id": "odax0F4ACFZp",
        "outputId": "39060837-f255-4481-b53c-5ed626c4b5b1"
      },
      "source": [
        "from chatterbot.trainers import ChatterBotCorpusTrainer\n",
        "corpus_trainer = ChatterBotCorpusTrainer(my_bot)\n",
        "corpus_trainer.train('chatterbot.corpus.english')"
      ],
      "execution_count": 10,
      "outputs": [
        {
          "output_type": "stream",
          "text": [
            "Training ai.yml: [####################] 100%\n",
            "Training botprofile.yml: [####################] 100%\n",
            "Training computers.yml: [####################] 100%\n",
            "Training conversations.yml: [####################] 100%\n",
            "Training emotion.yml: [####################] 100%\n",
            "Training food.yml: [####################] 100%\n",
            "Training gossip.yml: [####################] 100%\n",
            "Training greetings.yml: [####################] 100%\n",
            "Training health.yml: [####################] 100%\n",
            "Training history.yml: [####################] 100%\n",
            "Training humor.yml: [####################] 100%\n",
            "Training literature.yml: [####################] 100%\n",
            "Training money.yml: [####################] 100%\n",
            "Training movies.yml: [####################] 100%\n",
            "Training psychology.yml: [####################] 100%\n",
            "Training science.yml: [####################] 100%\n",
            "Training sports.yml: [####################] 100%\n",
            "Training trivia.yml: [####################] 100%\n"
          ],
          "name": "stdout"
        }
      ]
    },
    {
      "cell_type": "code",
      "metadata": {
        "colab": {
          "base_uri": "https://localhost:8080/"
        },
        "id": "HEZADnflCQzI",
        "outputId": "b83f398b-c174-44a2-c62c-ed92a1becb34"
      },
      "source": [
        "print(my_bot.get_response('sorry to hear that.'))"
      ],
      "execution_count": 11,
      "outputs": [
        {
          "output_type": "stream",
          "text": [
            "i'm fine\n"
          ],
          "name": "stdout"
        }
      ]
    },
    {
      "cell_type": "code",
      "metadata": {
        "colab": {
          "base_uri": "https://localhost:8080/"
        },
        "id": "cm-Hr9toDntK",
        "outputId": "20430894-2db9-4572-cba6-549ccbb0397c"
      },
      "source": [
        "print(my_bot.get_response(\"do you know the law of cosines?\"))"
      ],
      "execution_count": 12,
      "outputs": [
        {
          "output_type": "stream",
          "text": [
            "c**2 = a**2 + b**2 - 2 * a * b * cos(gamma)\n"
          ],
          "name": "stdout"
        }
      ]
    },
    {
      "cell_type": "code",
      "metadata": {
        "colab": {
          "base_uri": "https://localhost:8080/"
        },
        "id": "Lb-gYNtbDsp4",
        "outputId": "1a30ad54-5c51-4081-8568-7fad13df7d8b"
      },
      "source": [
        "print(my_bot.get_response('pythagorean theorem'))"
      ],
      "execution_count": 21,
      "outputs": [
        {
          "output_type": "stream",
          "text": [
            "a squared plus b squared equals c squared.\n"
          ],
          "name": "stdout"
        }
      ]
    }
  ]
}